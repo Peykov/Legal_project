{
 "cells": [
  {
   "cell_type": "markdown",
   "metadata": {},
   "source": [
    "Recources: Playbook to fine-tune and deploy LLMs (Decoding ML) : https://decodingml.substack.com/p/playbook-to-fine-tune-and-deploy#%C2%A7understanding-how-llms-are-trained\n",
    "\n",
    "\n",
    "\n",
    "\n",
    "\n"
   ]
  }
 ],
 "metadata": {
  "language_info": {
   "name": "python"
  }
 },
 "nbformat": 4,
 "nbformat_minor": 2
}
