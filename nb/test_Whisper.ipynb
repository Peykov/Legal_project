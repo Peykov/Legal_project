{
 "cells": [
  {
   "cell_type": "code",
   "execution_count": 8,
   "metadata": {},
   "outputs": [
    {
     "name": "stdout",
     "output_type": "stream",
     "text": [
      "Requirement already satisfied: pydub in c:\\users\\a1bg532573\\appdata\\local\\anaconda3\\envs\\jupyter1\\lib\\site-packages (0.25.1)\n",
      "Collecting ffmpeg-python\n",
      "  Obtaining dependency information for ffmpeg-python from https://files.pythonhosted.org/packages/d7/0c/56be52741f75bad4dc6555991fabd2e07b432d333da82c11ad701123888a/ffmpeg_python-0.2.0-py3-none-any.whl.metadata\n",
      "  Downloading ffmpeg_python-0.2.0-py3-none-any.whl.metadata (1.7 kB)\n",
      "Requirement already satisfied: future in c:\\users\\a1bg532573\\appdata\\local\\anaconda3\\envs\\jupyter1\\lib\\site-packages (from ffmpeg-python) (0.18.3)\n",
      "Downloading ffmpeg_python-0.2.0-py3-none-any.whl (25 kB)\n",
      "Installing collected packages: ffmpeg-python\n",
      "Successfully installed ffmpeg-python-0.2.0\n",
      "Successfully converted ../video/Scoring -20250219_153216-Meeting Recording.mp4 to ../video/Scoring -20250219_153216-Meeting Recording.mp3\n",
      "Ня спуснах сега, вие трябва да добрите ме. М? Да. Не се мютнахте нещо. То самата мютва. А, да. То те мютва, да, да. Кирил, Тони, мютнави. Мютнави. Не ме виждаме. Не се управи при мен. На микрофонците си цъкнах и те ме попита тогава. Защото не ми излигаше по-папа. Са гласа ми си. Ето и турията е готова. Ами не, на мен ми се прави в някаква страница, която постоя дада ерор. Да, и на мен първо, ама я затворих веднага и после на микрофонците си цъкнах. Ами ти, Митко, али беш записвал? Ами правихме такива срещи там по... В началото казах. Но не помня дали се пробва да ги изтеглям. Да ги даунлодвам. А тогава ще трябва да го даунлоднем и за да го процеснем. А сега кой пусна записата? Ти ли го пусна? Аз, да. Сега го спирам и ще видя дали мога да го изтегля.\n"
     ]
    }
   ],
   "source": [
    "# ... existing code ...\n",
    "\n",
    "# Install pydub and ffmpeg\n",
    "!pip install pydub\n",
    "!pip install ffmpeg-python\n",
    "\n",
    "# Define mp4 and mp3 file paths\n",
    "mp4_file = '../video/Scoring -20250219_153216-Meeting Recording.mp4'\n",
    "mp3_file = mp4_file.replace('.mp4', '.mp3')  # Define mp3_file variable\n",
    "\n",
    "# Convert mp4 to mp3 using ffmpeg directly\n",
    "import subprocess\n",
    "\n",
    "try:\n",
    "    # Use ffmpeg to extract audio from video\n",
    "    subprocess.call(['ffmpeg', '-i', mp4_file, '-q:a', '0', '-map', 'a', mp3_file, '-y'])\n",
    "    print(f\"Successfully converted {mp4_file} to {mp3_file}\")\n",
    "except Exception as e:\n",
    "    print(f\"Error converting file: {e}\")\n",
    "\n",
    "# ... existing code ...\n",
    "\n",
    "# Now use OpenAI's Whisper for transcription\n",
    "from openai import OpenAI\n",
    "api_key = os.getenv(\"OPENAI_API_KEY\")\n",
    "client = OpenAI(api_key=api_key)\n",
    "\n",
    "# Use the mp3_file we created earlier\n",
    "try:\n",
    "    audio_file = open(mp3_file, \"rb\")\n",
    "    transcription = client.audio.transcriptions.create(\n",
    "        model=\"whisper-1\", \n",
    "        file=audio_file\n",
    "    )\n",
    "    print(transcription.text)\n",
    "    # Don't forget to close the file\n",
    "    audio_file.close()\n",
    "except Exception as e:\n",
    "    print(f\"Error during transcription: {e}\")"
   ]
  },
  {
   "cell_type": "code",
   "execution_count": null,
   "metadata": {},
   "outputs": [],
   "source": [
    "# Load model directly\n",
    "from transformers import AutoProcessor, AutoModelForCTC\n",
    "\n",
    "processor = AutoProcessor.from_pretrained(\"DrishtiSharma/wav2vec2-large-xls-r-300m-bg-d2\")\n",
    "model = AutoModelForCTC.from_pretrained(\"DrishtiSharma/wav2vec2-large-xls-r-300m-bg-d2\")"
   ]
  }
 ],
 "metadata": {
  "kernelspec": {
   "display_name": "jupyter1",
   "language": "python",
   "name": "python3"
  },
  "language_info": {
   "codemirror_mode": {
    "name": "ipython",
    "version": 3
   },
   "file_extension": ".py",
   "mimetype": "text/x-python",
   "name": "python",
   "nbconvert_exporter": "python",
   "pygments_lexer": "ipython3",
   "version": "3.11.5"
  }
 },
 "nbformat": 4,
 "nbformat_minor": 2
}
